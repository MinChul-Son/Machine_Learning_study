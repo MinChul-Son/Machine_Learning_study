{
  "nbformat": 4,
  "nbformat_minor": 0,
  "metadata": {
    "colab": {
      "name": "day1.ipynb",
      "provenance": [],
      "collapsed_sections": [],
      "authorship_tag": "ABX9TyPzZTfpkk9xD9gNcRuqjrVY",
      "include_colab_link": true
    },
    "kernelspec": {
      "name": "python3",
      "display_name": "Python 3"
    }
  },
  "cells": [
    {
      "cell_type": "markdown",
      "metadata": {
        "id": "view-in-github",
        "colab_type": "text"
      },
      "source": [
        "<a href=\"https://colab.research.google.com/github/MinChul-Son/Machine_Learning_study/blob/main/day1.ipynb\" target=\"_parent\"><img src=\"https://colab.research.google.com/assets/colab-badge.svg\" alt=\"Open In Colab\"/></a>"
      ]
    },
    {
      "cell_type": "code",
      "metadata": {
        "id": "-6QITgnQmtCa"
      },
      "source": [
        "import pandas as pd\r\n",
        "import tensorflow as tf\r\n"
      ],
      "execution_count": null,
      "outputs": []
    },
    {
      "cell_type": "code",
      "metadata": {
        "id": "_foerDQPpa97"
      },
      "source": [
        "#파일들로부터 데이터 읽어오기\r\n",
        "path= 'https://raw.githubusercontent.com/blackdew/tensorflow1/master/csv/lemonade.csv'\r\n",
        "lemonade = pd.read_csv(path)\r\n",
        "\r\n",
        "path= 'https://raw.githubusercontent.com/blackdew/tensorflow1/master/csv/boston.csv'\r\n",
        "boston = pd.read_csv(path)\r\n",
        "\r\n",
        "path= 'https://raw.githubusercontent.com/blackdew/tensorflow1/master/csv/iris.csv'\r\n",
        "iris = pd.read_csv(path)"
      ],
      "execution_count": null,
      "outputs": []
    },
    {
      "cell_type": "code",
      "metadata": {
        "colab": {
          "base_uri": "https://localhost:8080/"
        },
        "id": "bBiGv9PLqNZZ",
        "outputId": "0bb20647-5b22-4231-a180-3ced191e94fb"
      },
      "source": [
        "# 데이터 모양으로 확인 ==> (row, column)형태로 return\r\n",
        "print(lemonade.shape)\r\n",
        "print(boston.shape)\r\n",
        "print(iris.shape)"
      ],
      "execution_count": null,
      "outputs": [
        {
          "output_type": "stream",
          "text": [
            "(6, 2)\n",
            "(506, 14)\n",
            "(150, 5)\n"
          ],
          "name": "stdout"
        }
      ]
    },
    {
      "cell_type": "code",
      "metadata": {
        "colab": {
          "base_uri": "https://localhost:8080/"
        },
        "id": "UjQNOWOSquTo",
        "outputId": "95f0abf0-f976-444b-9bca-1b70b21c9c0f"
      },
      "source": [
        "# 칼럼이름 출력\r\n",
        "print(lemonade.columns)\r\n",
        "print(boston.columns)\r\n",
        "print(iris.columns)"
      ],
      "execution_count": null,
      "outputs": [
        {
          "output_type": "stream",
          "text": [
            "Index(['온도', '판매량'], dtype='object')\n",
            "Index(['crim', 'zn', 'indus', 'chas', 'nox', 'rm', 'age', 'dis', 'rad', 'tax',\n",
            "       'ptratio', 'b', 'lstat', 'medv'],\n",
            "      dtype='object')\n",
            "Index(['꽃잎길이', '꽃잎폭', '꽃받침길이', '꽃받침폭', '품종'], dtype='object')\n"
          ],
          "name": "stdout"
        }
      ]
    },
    {
      "cell_type": "code",
      "metadata": {
        "colab": {
          "base_uri": "https://localhost:8080/"
        },
        "id": "KOuuDawMrBHu",
        "outputId": "64f8135d-b4f9-4422-ff1a-c9b5802ffa9c"
      },
      "source": [
        "#독립변수 종속변수 분류\r\n",
        "independent = lemonade[['온도']]\r\n",
        "dependent = lemonade[['판매량']]\r\n",
        "print(independent.shape, dependent.shape)\r\n",
        "\r\n",
        "independent = boston[['crim', 'zn', 'indus', 'chas', 'nox', 'rm', 'age', 'dis', 'rad', 'tax',\r\n",
        "       'ptratio', 'b', 'lstat']]\r\n",
        "dependent = boston[['medv']]\r\n",
        "print(independent.shape, dependent.shape)\r\n",
        "\r\n",
        "independent = iris[['꽃잎길이', '꽃잎폭', '꽃받침길이', '꽃받침폭']]\r\n",
        "dependent = iris[['품종']]\r\n",
        "print(independent.shape, dependent.shape)\r\n"
      ],
      "execution_count": null,
      "outputs": [
        {
          "output_type": "stream",
          "text": [
            "(6, 1) (6, 1)\n",
            "(506, 13) (506, 1)\n",
            "(150, 4) (150, 1)\n"
          ],
          "name": "stdout"
        }
      ]
    },
    {
      "cell_type": "code",
      "metadata": {
        "colab": {
          "base_uri": "https://localhost:8080/"
        },
        "id": "ET5e9Iansdu-",
        "outputId": "f237d0f7-0ae1-4bfb-8fbc-034ccdc64570"
      },
      "source": [
        "print(lemonade.head())"
      ],
      "execution_count": null,
      "outputs": [
        {
          "output_type": "stream",
          "text": [
            "   온도  판매량\n",
            "0  20   40\n",
            "1  21   42\n",
            "2  22   44\n",
            "3  23   46\n",
            "4  24   48\n"
          ],
          "name": "stdout"
        }
      ]
    },
    {
      "cell_type": "code",
      "metadata": {
        "colab": {
          "base_uri": "https://localhost:8080/"
        },
        "id": "Kzq61KfzsedP",
        "outputId": "91c950d0-595f-41e8-fe0c-551947defecd"
      },
      "source": [
        "print(boston.head())"
      ],
      "execution_count": null,
      "outputs": [
        {
          "output_type": "stream",
          "text": [
            "      crim    zn  indus  chas    nox  ...  tax  ptratio       b  lstat  medv\n",
            "0  0.00632  18.0   2.31     0  0.538  ...  296     15.3  396.90   4.98  24.0\n",
            "1  0.02731   0.0   7.07     0  0.469  ...  242     17.8  396.90   9.14  21.6\n",
            "2  0.02729   0.0   7.07     0  0.469  ...  242     17.8  392.83   4.03  34.7\n",
            "3  0.03237   0.0   2.18     0  0.458  ...  222     18.7  394.63   2.94  33.4\n",
            "4  0.06905   0.0   2.18     0  0.458  ...  222     18.7  396.90   5.33  36.2\n",
            "\n",
            "[5 rows x 14 columns]\n"
          ],
          "name": "stdout"
        }
      ]
    },
    {
      "cell_type": "code",
      "metadata": {
        "colab": {
          "base_uri": "https://localhost:8080/"
        },
        "id": "og-3rfGHsfta",
        "outputId": "3a53bcae-b7c1-4370-81b3-86a2eb5b0af1"
      },
      "source": [
        "print(iris.head())"
      ],
      "execution_count": null,
      "outputs": [
        {
          "output_type": "stream",
          "text": [
            "   꽃잎길이  꽃잎폭  꽃받침길이  꽃받침폭      품종\n",
            "0   5.1  3.5    1.4   0.2  setosa\n",
            "1   4.9  3.0    1.4   0.2  setosa\n",
            "2   4.7  3.2    1.3   0.2  setosa\n",
            "3   4.6  3.1    1.5   0.2  setosa\n",
            "4   5.0  3.6    1.4   0.2  setosa\n"
          ],
          "name": "stdout"
        }
      ]
    },
    {
      "cell_type": "code",
      "metadata": {
        "id": "ztdEPcBiwIVm"
      },
      "source": [
        "#--------------------------1.Lemonade predic Model-------------------\r\n",
        "independent = lemonade[['온도']]\r\n",
        "dependent = lemonade[['판매량']]\r\n",
        "\r\n",
        "#1. 모델을 만든다.(make model)\r\n",
        "X = tf.keras.layers.Input(shape=[1]) #독립변수의 칼럼 갯수 1개\r\n",
        "Y = tf.keras.layers.Dense(1)(X)\r\n",
        "model = tf.keras.models.Model(X, Y)\r\n",
        "model.compile(loss='mse')\r\n"
      ],
      "execution_count": null,
      "outputs": []
    },
    {
      "cell_type": "code",
      "metadata": {
        "colab": {
          "base_uri": "https://localhost:8080/"
        },
        "id": "99eaAkDkw8EP",
        "outputId": "c065b2d5-d8b7-4022-bf96-1cd7b09d2240"
      },
      "source": [
        "#2. 모델을 학습시긴다.(Learning Model)\r\n",
        "model.fit(independent, dependent, epochs=10)  #verbos=0을 입력하면 학습하는 동안 콘솔 출력 x, e-04= 10의 -4승 ==>1.8295e-04 == 0.0001"
      ],
      "execution_count": null,
      "outputs": [
        {
          "output_type": "stream",
          "text": [
            "Epoch 1/10\n",
            "1/1 [==============================] - 0s 4ms/step - loss: 1.8298e-04\n",
            "Epoch 2/10\n",
            "1/1 [==============================] - 0s 7ms/step - loss: 1.8295e-04\n",
            "Epoch 3/10\n",
            "1/1 [==============================] - 0s 5ms/step - loss: 1.8294e-04\n",
            "Epoch 4/10\n",
            "1/1 [==============================] - 0s 4ms/step - loss: 1.8290e-04\n",
            "Epoch 5/10\n",
            "1/1 [==============================] - 0s 5ms/step - loss: 1.8280e-04\n",
            "Epoch 6/10\n",
            "1/1 [==============================] - 0s 4ms/step - loss: 1.8272e-04\n",
            "Epoch 7/10\n",
            "1/1 [==============================] - 0s 4ms/step - loss: 1.8263e-04\n",
            "Epoch 8/10\n",
            "1/1 [==============================] - 0s 3ms/step - loss: 1.8253e-04\n",
            "Epoch 9/10\n",
            "1/1 [==============================] - 0s 3ms/step - loss: 1.8254e-04\n",
            "Epoch 10/10\n",
            "1/1 [==============================] - 0s 3ms/step - loss: 1.8253e-04\n"
          ],
          "name": "stdout"
        },
        {
          "output_type": "execute_result",
          "data": {
            "text/plain": [
              "<tensorflow.python.keras.callbacks.History at 0x7f7a6e2d9390>"
            ]
          },
          "metadata": {
            "tags": []
          },
          "execution_count": 34
        }
      ]
    },
    {
      "cell_type": "code",
      "metadata": {
        "colab": {
          "base_uri": "https://localhost:8080/"
        },
        "id": "W-47he-iyKx4",
        "outputId": "baa0f99f-2e4f-43e1-84ed-ef6f929cd086"
      },
      "source": [
        "model.predict(independent)"
      ],
      "execution_count": null,
      "outputs": [
        {
          "output_type": "execute_result",
          "data": {
            "text/plain": [
              "array([[40.02063 ],\n",
              "       [42.01727 ],\n",
              "       [44.013905],\n",
              "       [46.010544],\n",
              "       [48.00718 ],\n",
              "       [50.00382 ]], dtype=float32)"
            ]
          },
          "metadata": {
            "tags": []
          },
          "execution_count": 36
        }
      ]
    },
    {
      "cell_type": "code",
      "metadata": {
        "colab": {
          "base_uri": "https://localhost:8080/"
        },
        "id": "sMai5ESOyTNG",
        "outputId": "a3c4d7b7-1ad6-4f36-ab11-35dc5e813f54"
      },
      "source": [
        "model.predict([[15]])"
      ],
      "execution_count": null,
      "outputs": [
        {
          "output_type": "execute_result",
          "data": {
            "text/plain": [
              "array([[30.037447]], dtype=float32)"
            ]
          },
          "metadata": {
            "tags": []
          },
          "execution_count": 38
        }
      ]
    },
    {
      "cell_type": "code",
      "metadata": {
        "id": "45naayPX2rvn"
      },
      "source": [
        "#----------------------2.Bostion House Price Predict-------------------------------\r\n",
        "#1.데이터를 준비한다. (Prepare Data)\r\n",
        "independent = boston[['crim', 'zn', 'indus', 'chas', 'nox', 'rm', 'age', 'dis', 'rad', 'tax',\r\n",
        "       'ptratio', 'b', 'lstat']]\r\n",
        "dependent = boston[['medv']]\r\n",
        "\r\n",
        "#2. 모델의 구조를 만든다. (Make Model)\r\n",
        "X = tf.keras.layers.Input(shape=[13])\r\n",
        "Y = tf.keras.layers.Dense(1)(X)\r\n",
        "model = tf.keras.models.Model(X,Y)\r\n",
        "model.compile(loss='mse') \r\n",
        "\r\n",
        "\r\n"
      ],
      "execution_count": null,
      "outputs": []
    },
    {
      "cell_type": "code",
      "metadata": {
        "colab": {
          "base_uri": "https://localhost:8080/"
        },
        "id": "KDXDJMLv5d3m",
        "outputId": "57063394-060b-4ad7-e853-96434f3ad784"
      },
      "source": [
        "#3. 모델을 학습시킵니다. (Fit Model)\r\n",
        "model.fit(independent, dependent, epochs=10)\r\n"
      ],
      "execution_count": null,
      "outputs": [
        {
          "output_type": "stream",
          "text": [
            "Epoch 1/10\n",
            "16/16 [==============================] - 0s 1ms/step - loss: 26.4740\n",
            "Epoch 2/10\n",
            "16/16 [==============================] - 0s 1ms/step - loss: 26.2941\n",
            "Epoch 3/10\n",
            "16/16 [==============================] - 0s 1ms/step - loss: 26.1019\n",
            "Epoch 4/10\n",
            "16/16 [==============================] - 0s 1ms/step - loss: 26.0785\n",
            "Epoch 5/10\n",
            "16/16 [==============================] - 0s 1ms/step - loss: 26.0629\n",
            "Epoch 6/10\n",
            "16/16 [==============================] - 0s 1ms/step - loss: 26.1850\n",
            "Epoch 7/10\n",
            "16/16 [==============================] - 0s 1ms/step - loss: 25.9236\n",
            "Epoch 8/10\n",
            "16/16 [==============================] - 0s 1ms/step - loss: 26.0056\n",
            "Epoch 9/10\n",
            "16/16 [==============================] - 0s 1ms/step - loss: 26.3062\n",
            "Epoch 10/10\n",
            "16/16 [==============================] - 0s 1ms/step - loss: 26.0886\n"
          ],
          "name": "stdout"
        },
        {
          "output_type": "execute_result",
          "data": {
            "text/plain": [
              "<tensorflow.python.keras.callbacks.History at 0x7f7a6d0c42b0>"
            ]
          },
          "metadata": {
            "tags": []
          },
          "execution_count": 48
        }
      ]
    },
    {
      "cell_type": "code",
      "metadata": {
        "colab": {
          "base_uri": "https://localhost:8080/"
        },
        "id": "PdyQQczE547K",
        "outputId": "e4d10466-34cb-42ee-c6ca-8864b226b4e7"
      },
      "source": [
        "model.predict(independent[0:5])"
      ],
      "execution_count": null,
      "outputs": [
        {
          "output_type": "execute_result",
          "data": {
            "text/plain": [
              "array([[28.814075],\n",
              "       [24.104385],\n",
              "       [29.81099 ],\n",
              "       [29.165665],\n",
              "       [28.518814]], dtype=float32)"
            ]
          },
          "metadata": {
            "tags": []
          },
          "execution_count": 51
        }
      ]
    },
    {
      "cell_type": "code",
      "metadata": {
        "colab": {
          "base_uri": "https://localhost:8080/",
          "height": 195
        },
        "id": "T-Bcrjr-6Cv2",
        "outputId": "3dcf90d1-65b2-4e50-ea88-bb215be9fab5"
      },
      "source": [
        "dependent[0:5]"
      ],
      "execution_count": null,
      "outputs": [
        {
          "output_type": "execute_result",
          "data": {
            "text/html": [
              "<div>\n",
              "<style scoped>\n",
              "    .dataframe tbody tr th:only-of-type {\n",
              "        vertical-align: middle;\n",
              "    }\n",
              "\n",
              "    .dataframe tbody tr th {\n",
              "        vertical-align: top;\n",
              "    }\n",
              "\n",
              "    .dataframe thead th {\n",
              "        text-align: right;\n",
              "    }\n",
              "</style>\n",
              "<table border=\"1\" class=\"dataframe\">\n",
              "  <thead>\n",
              "    <tr style=\"text-align: right;\">\n",
              "      <th></th>\n",
              "      <th>medv</th>\n",
              "    </tr>\n",
              "  </thead>\n",
              "  <tbody>\n",
              "    <tr>\n",
              "      <th>0</th>\n",
              "      <td>24.0</td>\n",
              "    </tr>\n",
              "    <tr>\n",
              "      <th>1</th>\n",
              "      <td>21.6</td>\n",
              "    </tr>\n",
              "    <tr>\n",
              "      <th>2</th>\n",
              "      <td>34.7</td>\n",
              "    </tr>\n",
              "    <tr>\n",
              "      <th>3</th>\n",
              "      <td>33.4</td>\n",
              "    </tr>\n",
              "    <tr>\n",
              "      <th>4</th>\n",
              "      <td>36.2</td>\n",
              "    </tr>\n",
              "  </tbody>\n",
              "</table>\n",
              "</div>"
            ],
            "text/plain": [
              "   medv\n",
              "0  24.0\n",
              "1  21.6\n",
              "2  34.7\n",
              "3  33.4\n",
              "4  36.2"
            ]
          },
          "metadata": {
            "tags": []
          },
          "execution_count": 53
        }
      ]
    },
    {
      "cell_type": "code",
      "metadata": {
        "colab": {
          "base_uri": "https://localhost:8080/"
        },
        "id": "OCgmlHDC6Tfu",
        "outputId": "e398dc90-9832-4339-b553-a1476529c910"
      },
      "source": [
        "#모델의 수식 확인(Check model's expression)\r\n",
        "model.get_weights()"
      ],
      "execution_count": null,
      "outputs": [
        {
          "output_type": "execute_result",
          "data": {
            "text/plain": [
              "[array([[-0.08519736],\n",
              "        [ 0.07219958],\n",
              "        [-0.06301176],\n",
              "        [ 3.4289684 ],\n",
              "        [ 2.3830097 ],\n",
              "        [ 3.9872563 ],\n",
              "        [ 0.01309566],\n",
              "        [-0.90100306],\n",
              "        [ 0.15038723],\n",
              "        [-0.01019472],\n",
              "        [-0.006007  ],\n",
              "        [ 0.01491302],\n",
              "        [-0.5781094 ]], dtype=float32), array([2.9127398], dtype=float32)]"
            ]
          },
          "metadata": {
            "tags": []
          },
          "execution_count": 57
        }
      ]
    },
    {
      "cell_type": "code",
      "metadata": {
        "colab": {
          "base_uri": "https://localhost:8080/"
        },
        "id": "5Wo4rny7JT1p",
        "outputId": "1019fe16-1d4b-40fb-b508-36f4a411dce4"
      },
      "source": [
        "#---------------------------3.iris cultivar predict------------ 분류 모델\r\n",
        "path= 'https://raw.githubusercontent.com/blackdew/tensorflow1/master/csv/iris.csv'\r\n",
        "iris = pd.read_csv(path)\r\n",
        "# 1. 원핫인코딩 (onehot-encoding)\r\n",
        "encoding = pd.get_dummies(iris)\r\n",
        "encoding.head()\r\n",
        "print(encoding.columns)"
      ],
      "execution_count": null,
      "outputs": [
        {
          "output_type": "stream",
          "text": [
            "Index(['꽃잎길이', '꽃잎폭', '꽃받침길이', '꽃받침폭', '품종_setosa', '품종_versicolor',\n",
            "       '품종_virginica'],\n",
            "      dtype='object')\n"
          ],
          "name": "stdout"
        }
      ]
    },
    {
      "cell_type": "code",
      "metadata": {
        "id": "Xz7wIUTgJ7dn"
      },
      "source": [
        "#1-1 독립변수와 종속 변수로 분리\r\n",
        "independent = encoding[['꽃잎길이', '꽃잎폭', '꽃받침길이', '꽃받침폭']]\r\n",
        "dependent = encoding[['품종_setosa', '품종_versicolor', '품종_virginica']]\r\n"
      ],
      "execution_count": null,
      "outputs": []
    },
    {
      "cell_type": "code",
      "metadata": {
        "id": "AlXHajtUKCVh"
      },
      "source": [
        "#2. 모델의 구조를 만듭니다. (Make Model)\r\n",
        "X = tf.keras.layers.Input(shape=[4])\r\n",
        "Y = tf.keras.layers.Dense(3,activation='softmax')(X)\r\n",
        "model = tf.keras.models.Model(X,Y)\r\n",
        "model.compile(loss='categorical_crossentropy', metrics='accuracy')"
      ],
      "execution_count": null,
      "outputs": []
    },
    {
      "cell_type": "code",
      "metadata": {
        "colab": {
          "base_uri": "https://localhost:8080/"
        },
        "id": "CQlalvf1LLKT",
        "outputId": "77a85c58-309f-4f05-ceed-c96e05708bce"
      },
      "source": [
        "#3. 모델을 학습시킵니다. (Fit Model)\r\n",
        "model.fit(independent, dependent, epochs=100)"
      ],
      "execution_count": null,
      "outputs": [
        {
          "output_type": "stream",
          "text": [
            "Epoch 1/100\n",
            "5/5 [==============================] - 0s 2ms/step - loss: 0.5028 - accuracy: 0.9067\n",
            "Epoch 2/100\n",
            "5/5 [==============================] - 0s 2ms/step - loss: 0.5008 - accuracy: 0.9267\n",
            "Epoch 3/100\n",
            "5/5 [==============================] - 0s 2ms/step - loss: 0.5010 - accuracy: 0.8533\n",
            "Epoch 4/100\n",
            "5/5 [==============================] - 0s 2ms/step - loss: 0.4981 - accuracy: 0.9000\n",
            "Epoch 5/100\n",
            "5/5 [==============================] - 0s 2ms/step - loss: 0.4960 - accuracy: 0.9200\n",
            "Epoch 6/100\n",
            "5/5 [==============================] - 0s 2ms/step - loss: 0.4954 - accuracy: 0.9133\n",
            "Epoch 7/100\n",
            "5/5 [==============================] - 0s 2ms/step - loss: 0.4936 - accuracy: 0.9133\n",
            "Epoch 8/100\n",
            "5/5 [==============================] - 0s 2ms/step - loss: 0.4920 - accuracy: 0.9000\n",
            "Epoch 9/100\n",
            "5/5 [==============================] - 0s 2ms/step - loss: 0.4909 - accuracy: 0.9267\n",
            "Epoch 10/100\n",
            "5/5 [==============================] - 0s 2ms/step - loss: 0.4893 - accuracy: 0.9200\n",
            "Epoch 11/100\n",
            "5/5 [==============================] - 0s 2ms/step - loss: 0.4875 - accuracy: 0.9267\n",
            "Epoch 12/100\n",
            "5/5 [==============================] - 0s 2ms/step - loss: 0.4862 - accuracy: 0.9333\n",
            "Epoch 13/100\n",
            "5/5 [==============================] - 0s 2ms/step - loss: 0.4861 - accuracy: 0.9067\n",
            "Epoch 14/100\n",
            "5/5 [==============================] - 0s 2ms/step - loss: 0.4837 - accuracy: 0.9000\n",
            "Epoch 15/100\n",
            "5/5 [==============================] - 0s 2ms/step - loss: 0.4835 - accuracy: 0.9067\n",
            "Epoch 16/100\n",
            "5/5 [==============================] - 0s 3ms/step - loss: 0.4815 - accuracy: 0.8733\n",
            "Epoch 17/100\n",
            "5/5 [==============================] - 0s 2ms/step - loss: 0.4792 - accuracy: 0.9200\n",
            "Epoch 18/100\n",
            "5/5 [==============================] - 0s 2ms/step - loss: 0.4778 - accuracy: 0.9267\n",
            "Epoch 19/100\n",
            "5/5 [==============================] - 0s 2ms/step - loss: 0.4772 - accuracy: 0.9267\n",
            "Epoch 20/100\n",
            "5/5 [==============================] - 0s 3ms/step - loss: 0.4760 - accuracy: 0.9267\n",
            "Epoch 21/100\n",
            "5/5 [==============================] - 0s 2ms/step - loss: 0.4754 - accuracy: 0.9200\n",
            "Epoch 22/100\n",
            "5/5 [==============================] - 0s 2ms/step - loss: 0.4734 - accuracy: 0.9200\n",
            "Epoch 23/100\n",
            "5/5 [==============================] - 0s 3ms/step - loss: 0.4717 - accuracy: 0.9200\n",
            "Epoch 24/100\n",
            "5/5 [==============================] - 0s 3ms/step - loss: 0.4709 - accuracy: 0.9333\n",
            "Epoch 25/100\n",
            "5/5 [==============================] - 0s 2ms/step - loss: 0.4694 - accuracy: 0.9400\n",
            "Epoch 26/100\n",
            "5/5 [==============================] - 0s 2ms/step - loss: 0.4676 - accuracy: 0.9200\n",
            "Epoch 27/100\n",
            "5/5 [==============================] - 0s 2ms/step - loss: 0.4662 - accuracy: 0.9400\n",
            "Epoch 28/100\n",
            "5/5 [==============================] - 0s 2ms/step - loss: 0.4655 - accuracy: 0.9400\n",
            "Epoch 29/100\n",
            "5/5 [==============================] - 0s 2ms/step - loss: 0.4638 - accuracy: 0.9400\n",
            "Epoch 30/100\n",
            "5/5 [==============================] - 0s 2ms/step - loss: 0.4625 - accuracy: 0.9333\n",
            "Epoch 31/100\n",
            "5/5 [==============================] - 0s 2ms/step - loss: 0.4617 - accuracy: 0.9067\n",
            "Epoch 32/100\n",
            "5/5 [==============================] - 0s 3ms/step - loss: 0.4595 - accuracy: 0.9400\n",
            "Epoch 33/100\n",
            "5/5 [==============================] - 0s 2ms/step - loss: 0.4590 - accuracy: 0.9400\n",
            "Epoch 34/100\n",
            "5/5 [==============================] - 0s 2ms/step - loss: 0.4578 - accuracy: 0.9467\n",
            "Epoch 35/100\n",
            "5/5 [==============================] - 0s 2ms/step - loss: 0.4564 - accuracy: 0.9333\n",
            "Epoch 36/100\n",
            "5/5 [==============================] - 0s 3ms/step - loss: 0.4546 - accuracy: 0.9200\n",
            "Epoch 37/100\n",
            "5/5 [==============================] - 0s 3ms/step - loss: 0.4533 - accuracy: 0.9533\n",
            "Epoch 38/100\n",
            "5/5 [==============================] - 0s 3ms/step - loss: 0.4532 - accuracy: 0.9533\n",
            "Epoch 39/100\n",
            "5/5 [==============================] - 0s 3ms/step - loss: 0.4513 - accuracy: 0.9467\n",
            "Epoch 40/100\n",
            "5/5 [==============================] - 0s 3ms/step - loss: 0.4496 - accuracy: 0.9400\n",
            "Epoch 41/100\n",
            "5/5 [==============================] - 0s 3ms/step - loss: 0.4490 - accuracy: 0.9133\n",
            "Epoch 42/100\n",
            "5/5 [==============================] - 0s 3ms/step - loss: 0.4475 - accuracy: 0.9533\n",
            "Epoch 43/100\n",
            "5/5 [==============================] - 0s 2ms/step - loss: 0.4460 - accuracy: 0.9400\n",
            "Epoch 44/100\n",
            "5/5 [==============================] - 0s 2ms/step - loss: 0.4447 - accuracy: 0.9533\n",
            "Epoch 45/100\n",
            "5/5 [==============================] - 0s 4ms/step - loss: 0.4449 - accuracy: 0.9400\n",
            "Epoch 46/100\n",
            "5/5 [==============================] - 0s 3ms/step - loss: 0.4430 - accuracy: 0.9667\n",
            "Epoch 47/100\n",
            "5/5 [==============================] - 0s 2ms/step - loss: 0.4430 - accuracy: 0.9067\n",
            "Epoch 48/100\n",
            "5/5 [==============================] - 0s 2ms/step - loss: 0.4409 - accuracy: 0.9400\n",
            "Epoch 49/100\n",
            "5/5 [==============================] - 0s 2ms/step - loss: 0.4399 - accuracy: 0.9400\n",
            "Epoch 50/100\n",
            "5/5 [==============================] - 0s 2ms/step - loss: 0.4382 - accuracy: 0.9467\n",
            "Epoch 51/100\n",
            "5/5 [==============================] - 0s 3ms/step - loss: 0.4377 - accuracy: 0.9600\n",
            "Epoch 52/100\n",
            "5/5 [==============================] - 0s 2ms/step - loss: 0.4372 - accuracy: 0.9467\n",
            "Epoch 53/100\n",
            "5/5 [==============================] - 0s 2ms/step - loss: 0.4355 - accuracy: 0.9333\n",
            "Epoch 54/100\n",
            "5/5 [==============================] - 0s 2ms/step - loss: 0.4344 - accuracy: 0.9533\n",
            "Epoch 55/100\n",
            "5/5 [==============================] - 0s 2ms/step - loss: 0.4332 - accuracy: 0.9533\n",
            "Epoch 56/100\n",
            "5/5 [==============================] - 0s 2ms/step - loss: 0.4318 - accuracy: 0.9533\n",
            "Epoch 57/100\n",
            "5/5 [==============================] - 0s 3ms/step - loss: 0.4316 - accuracy: 0.9667\n",
            "Epoch 58/100\n",
            "5/5 [==============================] - 0s 5ms/step - loss: 0.4298 - accuracy: 0.9533\n",
            "Epoch 59/100\n",
            "5/5 [==============================] - 0s 3ms/step - loss: 0.4286 - accuracy: 0.9667\n",
            "Epoch 60/100\n",
            "5/5 [==============================] - 0s 3ms/step - loss: 0.4280 - accuracy: 0.9600\n",
            "Epoch 61/100\n",
            "5/5 [==============================] - 0s 3ms/step - loss: 0.4269 - accuracy: 0.9533\n",
            "Epoch 62/100\n",
            "5/5 [==============================] - 0s 2ms/step - loss: 0.4259 - accuracy: 0.9667\n",
            "Epoch 63/100\n",
            "5/5 [==============================] - 0s 2ms/step - loss: 0.4249 - accuracy: 0.9667\n",
            "Epoch 64/100\n",
            "5/5 [==============================] - 0s 3ms/step - loss: 0.4246 - accuracy: 0.9467\n",
            "Epoch 65/100\n",
            "5/5 [==============================] - 0s 2ms/step - loss: 0.4223 - accuracy: 0.9533\n",
            "Epoch 66/100\n",
            "5/5 [==============================] - 0s 2ms/step - loss: 0.4221 - accuracy: 0.9667\n",
            "Epoch 67/100\n",
            "5/5 [==============================] - 0s 2ms/step - loss: 0.4205 - accuracy: 0.9533\n",
            "Epoch 68/100\n",
            "5/5 [==============================] - 0s 2ms/step - loss: 0.4205 - accuracy: 0.9667\n",
            "Epoch 69/100\n",
            "5/5 [==============================] - 0s 2ms/step - loss: 0.4191 - accuracy: 0.9667\n",
            "Epoch 70/100\n",
            "5/5 [==============================] - 0s 3ms/step - loss: 0.4177 - accuracy: 0.9600\n",
            "Epoch 71/100\n",
            "5/5 [==============================] - 0s 2ms/step - loss: 0.4170 - accuracy: 0.9667\n",
            "Epoch 72/100\n",
            "5/5 [==============================] - 0s 3ms/step - loss: 0.4159 - accuracy: 0.9667\n",
            "Epoch 73/100\n",
            "5/5 [==============================] - 0s 3ms/step - loss: 0.4146 - accuracy: 0.9667\n",
            "Epoch 74/100\n",
            "5/5 [==============================] - 0s 2ms/step - loss: 0.4137 - accuracy: 0.9667\n",
            "Epoch 75/100\n",
            "5/5 [==============================] - 0s 2ms/step - loss: 0.4132 - accuracy: 0.9667\n",
            "Epoch 76/100\n",
            "5/5 [==============================] - 0s 3ms/step - loss: 0.4115 - accuracy: 0.9667\n",
            "Epoch 77/100\n",
            "5/5 [==============================] - 0s 3ms/step - loss: 0.4109 - accuracy: 0.9667\n",
            "Epoch 78/100\n",
            "5/5 [==============================] - 0s 4ms/step - loss: 0.4099 - accuracy: 0.9667\n",
            "Epoch 79/100\n",
            "5/5 [==============================] - 0s 2ms/step - loss: 0.4092 - accuracy: 0.9600\n",
            "Epoch 80/100\n",
            "5/5 [==============================] - 0s 3ms/step - loss: 0.4084 - accuracy: 0.9667\n",
            "Epoch 81/100\n",
            "5/5 [==============================] - 0s 3ms/step - loss: 0.4071 - accuracy: 0.9667\n",
            "Epoch 82/100\n",
            "5/5 [==============================] - 0s 2ms/step - loss: 0.4056 - accuracy: 0.9667\n",
            "Epoch 83/100\n",
            "5/5 [==============================] - 0s 2ms/step - loss: 0.4056 - accuracy: 0.9600\n",
            "Epoch 84/100\n",
            "5/5 [==============================] - 0s 2ms/step - loss: 0.4039 - accuracy: 0.9667\n",
            "Epoch 85/100\n",
            "5/5 [==============================] - 0s 2ms/step - loss: 0.4034 - accuracy: 0.9667\n",
            "Epoch 86/100\n",
            "5/5 [==============================] - 0s 2ms/step - loss: 0.4029 - accuracy: 0.9667\n",
            "Epoch 87/100\n",
            "5/5 [==============================] - 0s 3ms/step - loss: 0.4018 - accuracy: 0.9667\n",
            "Epoch 88/100\n",
            "5/5 [==============================] - 0s 2ms/step - loss: 0.4002 - accuracy: 0.9667\n",
            "Epoch 89/100\n",
            "5/5 [==============================] - 0s 3ms/step - loss: 0.4001 - accuracy: 0.9667\n",
            "Epoch 90/100\n",
            "5/5 [==============================] - 0s 2ms/step - loss: 0.3984 - accuracy: 0.9667\n",
            "Epoch 91/100\n",
            "5/5 [==============================] - 0s 3ms/step - loss: 0.3981 - accuracy: 0.9667\n",
            "Epoch 92/100\n",
            "5/5 [==============================] - 0s 3ms/step - loss: 0.3968 - accuracy: 0.9667\n",
            "Epoch 93/100\n",
            "5/5 [==============================] - 0s 4ms/step - loss: 0.3965 - accuracy: 0.9667\n",
            "Epoch 94/100\n",
            "5/5 [==============================] - 0s 3ms/step - loss: 0.3952 - accuracy: 0.9667\n",
            "Epoch 95/100\n",
            "5/5 [==============================] - 0s 3ms/step - loss: 0.3943 - accuracy: 0.9667\n",
            "Epoch 96/100\n",
            "5/5 [==============================] - 0s 2ms/step - loss: 0.3931 - accuracy: 0.9667\n",
            "Epoch 97/100\n",
            "5/5 [==============================] - 0s 3ms/step - loss: 0.3933 - accuracy: 0.9667\n",
            "Epoch 98/100\n",
            "5/5 [==============================] - 0s 2ms/step - loss: 0.3922 - accuracy: 0.9667\n",
            "Epoch 99/100\n",
            "5/5 [==============================] - 0s 2ms/step - loss: 0.3912 - accuracy: 0.9667\n",
            "Epoch 100/100\n",
            "5/5 [==============================] - 0s 2ms/step - loss: 0.3902 - accuracy: 0.9667\n"
          ],
          "name": "stdout"
        },
        {
          "output_type": "execute_result",
          "data": {
            "text/plain": [
              "<tensorflow.python.keras.callbacks.History at 0x7f7a6bf8c5f8>"
            ]
          },
          "metadata": {
            "tags": []
          },
          "execution_count": 68
        }
      ]
    },
    {
      "cell_type": "code",
      "metadata": {
        "colab": {
          "base_uri": "https://localhost:8080/"
        },
        "id": "Idn6ecE9LgE0",
        "outputId": "e08dc9fd-997f-489f-f69e-6e5e1d6d1fa3"
      },
      "source": [
        "model.predict(independent[0:5])"
      ],
      "execution_count": null,
      "outputs": [
        {
          "output_type": "execute_result",
          "data": {
            "text/plain": [
              "array([[0.9402199 , 0.05490038, 0.00487976],\n",
              "       [0.902735  , 0.08747882, 0.00978619],\n",
              "       [0.918555  , 0.07398143, 0.0074635 ],\n",
              "       [0.89559984, 0.09372938, 0.01067081],\n",
              "       [0.943495  , 0.05203557, 0.00446952]], dtype=float32)"
            ]
          },
          "metadata": {
            "tags": []
          },
          "execution_count": 71
        }
      ]
    },
    {
      "cell_type": "code",
      "metadata": {
        "colab": {
          "base_uri": "https://localhost:8080/"
        },
        "id": "vbzZvSjmLvjk",
        "outputId": "75fc3528-8249-4d1a-eb0c-27d51c942d87"
      },
      "source": [
        "print(dependent[0:5])"
      ],
      "execution_count": null,
      "outputs": [
        {
          "output_type": "stream",
          "text": [
            "   품종_setosa  품종_versicolor  품종_virginica\n",
            "0          1              0             0\n",
            "1          1              0             0\n",
            "2          1              0             0\n",
            "3          1              0             0\n",
            "4          1              0             0\n"
          ],
          "name": "stdout"
        }
      ]
    },
    {
      "cell_type": "code",
      "metadata": {
        "colab": {
          "base_uri": "https://localhost:8080/"
        },
        "id": "buNc0sUiL8P6",
        "outputId": "2a8a0bed-bd3a-4899-8252-98d8a9196a96"
      },
      "source": [
        "#학습한 가중치\r\n",
        "model.get_weights()"
      ],
      "execution_count": null,
      "outputs": [
        {
          "output_type": "execute_result",
          "data": {
            "text/plain": [
              "[array([[ 0.51864094,  0.2026223 ,  0.11849657],\n",
              "        [ 0.45575884, -0.43095678, -0.8573059 ],\n",
              "        [-0.6084351 ,  0.09972545,  0.44893545],\n",
              "        [-1.9522974 ,  0.51299554,  1.339832  ]], dtype=float32),\n",
              " array([ 0.17730048,  0.56742287, -0.58599925], dtype=float32)]"
            ]
          },
          "metadata": {
            "tags": []
          },
          "execution_count": 75
        }
      ]
    },
    {
      "cell_type": "code",
      "metadata": {
        "id": "kSVhelg4NGWf"
      },
      "source": [
        "#-------------------------4. Hidden Layer-----------------------------\r\n",
        "#4-1 Boston\r\n",
        "#1.데이터 준비(Prepare Data)\r\n",
        "independent = boston[['crim', 'zn', 'indus', 'chas', 'nox', 'rm', 'age', 'dis', 'rad', 'tax',\r\n",
        "       'ptratio', 'b', 'lstat']]\r\n",
        "dependent = boston[['medv']]"
      ],
      "execution_count": null,
      "outputs": []
    },
    {
      "cell_type": "code",
      "metadata": {
        "id": "GJxDfd00Nk-T"
      },
      "source": [
        "#2. 모델을 만듭니다.(Make Model)\r\n",
        "X = tf.keras.layers.Input(shape=[13])\r\n",
        "H = tf.keras.layers.Dense(10, activation='swish')(X) #10개의 노드로 구성된 히든레이어 추가\r\n",
        "Y = tf.keras.layers.Dense(1)(H)\r\n",
        "model = tf.keras.models.Model(X,Y)\r\n",
        "model.compile(loss='mse') "
      ],
      "execution_count": null,
      "outputs": []
    },
    {
      "cell_type": "code",
      "metadata": {
        "colab": {
          "base_uri": "https://localhost:8080/"
        },
        "id": "PjWgN6rpOchM",
        "outputId": "a1792974-ee8d-4c54-f5ff-6115c94bb70b"
      },
      "source": [
        "model.summary() #모델 확인"
      ],
      "execution_count": null,
      "outputs": [
        {
          "output_type": "stream",
          "text": [
            "Model: \"model_7\"\n",
            "_________________________________________________________________\n",
            "Layer (type)                 Output Shape              Param #   \n",
            "=================================================================\n",
            "input_8 (InputLayer)         [(None, 13)]              0         \n",
            "_________________________________________________________________\n",
            "dense_9 (Dense)              (None, 10)                140       \n",
            "_________________________________________________________________\n",
            "dense_10 (Dense)             (None, 1)                 11        \n",
            "=================================================================\n",
            "Total params: 151\n",
            "Trainable params: 151\n",
            "Non-trainable params: 0\n",
            "_________________________________________________________________\n"
          ],
          "name": "stdout"
        }
      ]
    },
    {
      "cell_type": "code",
      "metadata": {
        "colab": {
          "base_uri": "https://localhost:8080/"
        },
        "id": "vehFG8a0N_bi",
        "outputId": "d0ad0265-4f16-48e6-c4c1-f5ea06752add"
      },
      "source": [
        "#3. 모델을 학습시킨다. (Fit Model)\r\n",
        "model.fit(independent, dependent, epochs=10)"
      ],
      "execution_count": null,
      "outputs": [
        {
          "output_type": "stream",
          "text": [
            "Epoch 1/10\n",
            "16/16 [==============================] - 0s 1ms/step - loss: 23.4372\n",
            "Epoch 2/10\n",
            "16/16 [==============================] - 0s 2ms/step - loss: 24.0474\n",
            "Epoch 3/10\n",
            "16/16 [==============================] - 0s 2ms/step - loss: 24.4225\n",
            "Epoch 4/10\n",
            "16/16 [==============================] - 0s 2ms/step - loss: 22.5655\n",
            "Epoch 5/10\n",
            "16/16 [==============================] - 0s 2ms/step - loss: 24.0420\n",
            "Epoch 6/10\n",
            "16/16 [==============================] - 0s 2ms/step - loss: 22.8970\n",
            "Epoch 7/10\n",
            "16/16 [==============================] - 0s 2ms/step - loss: 24.1218\n",
            "Epoch 8/10\n",
            "16/16 [==============================] - 0s 2ms/step - loss: 23.7018\n",
            "Epoch 9/10\n",
            "16/16 [==============================] - 0s 2ms/step - loss: 23.2914\n",
            "Epoch 10/10\n",
            "16/16 [==============================] - 0s 2ms/step - loss: 23.8663\n"
          ],
          "name": "stdout"
        },
        {
          "output_type": "execute_result",
          "data": {
            "text/plain": [
              "<tensorflow.python.keras.callbacks.History at 0x7f7a7003ff28>"
            ]
          },
          "metadata": {
            "tags": []
          },
          "execution_count": 87
        }
      ]
    },
    {
      "cell_type": "code",
      "metadata": {
        "colab": {
          "base_uri": "https://localhost:8080/"
        },
        "id": "xNwTAA_-OjqR",
        "outputId": "bf89161d-988d-49fe-a9b5-0810b8f3cf40"
      },
      "source": [
        "print(model.predict(independent[:5]))\r\n",
        "print(dependent[:5])"
      ],
      "execution_count": null,
      "outputs": [
        {
          "output_type": "stream",
          "text": [
            "[[25.772768]\n",
            " [20.82331 ]\n",
            " [26.911983]\n",
            " [26.682579]\n",
            " [26.078266]]\n",
            "   medv\n",
            "0  24.0\n",
            "1  21.6\n",
            "2  34.7\n",
            "3  33.4\n",
            "4  36.2\n"
          ],
          "name": "stdout"
        }
      ]
    },
    {
      "cell_type": "code",
      "metadata": {
        "colab": {
          "base_uri": "https://localhost:8080/"
        },
        "id": "SJ9j664APONW",
        "outputId": "5f9048e3-44dd-4c6c-8fd1-84ce32cd36eb"
      },
      "source": [
        "#4-2 iris\r\n",
        "path= 'https://raw.githubusercontent.com/blackdew/tensorflow1/master/csv/iris.csv'\r\n",
        "iris = pd.read_csv(path)\r\n",
        "# 1. 원핫인코딩 (onehot-encoding)\r\n",
        "encoding = pd.get_dummies(iris)\r\n",
        "encoding.head()\r\n",
        "print(encoding.columns)\r\n",
        "independent = encoding[['꽃잎길이', '꽃잎폭', '꽃받침길이', '꽃받침폭']]\r\n",
        "dependent = encoding[['품종_setosa', '품종_versicolor', '품종_virginica']]"
      ],
      "execution_count": null,
      "outputs": [
        {
          "output_type": "stream",
          "text": [
            "Index(['꽃잎길이', '꽃잎폭', '꽃받침길이', '꽃받침폭', '품종_setosa', '품종_versicolor',\n",
            "       '품종_virginica'],\n",
            "      dtype='object')\n"
          ],
          "name": "stdout"
        }
      ]
    },
    {
      "cell_type": "code",
      "metadata": {
        "id": "KK5ydrkePSY8"
      },
      "source": [
        "#2. 모델의 구조를 만듭니다. (Make Model)\r\n",
        "X = tf.keras.layers.Input(shape=[4])\r\n",
        "H = tf.keras.layers.Dense(8, activation='swish')(X)\r\n",
        "H = tf.keras.layers.Dense(8, activation='swish')(X)\r\n",
        "H = tf.keras.layers.Dense(8, activation='swish')(X)\r\n",
        "Y = tf.keras.layers.Dense(3,activation='softmax')(H)\r\n",
        "model = tf.keras.models.Model(X,Y)\r\n",
        "model.compile(loss='categorical_crossentropy', metrics='accuracy')"
      ],
      "execution_count": null,
      "outputs": []
    },
    {
      "cell_type": "code",
      "metadata": {
        "id": "X_W28iKXPkid"
      },
      "source": [
        "#3. 모델을 학습시킵니다. (Fit Model)\r\n",
        "model.fit(independent, dependent, epochs=100)"
      ],
      "execution_count": null,
      "outputs": []
    },
    {
      "cell_type": "code",
      "metadata": {
        "colab": {
          "base_uri": "https://localhost:8080/"
        },
        "id": "lPJGVz7hPxp4",
        "outputId": "6712c947-b26a-46c0-a88a-d3b7677fcd37"
      },
      "source": [
        "print(model.predict(independent[0:5]))\r\n",
        "print(dependent[0:5])"
      ],
      "execution_count": null,
      "outputs": [
        {
          "output_type": "stream",
          "text": [
            "[[9.9205363e-01 7.9458011e-03 5.5755982e-07]\n",
            " [9.7344548e-01 2.6548270e-02 6.2615741e-06]\n",
            " [9.8807585e-01 1.1922352e-02 1.7545347e-06]\n",
            " [9.8107970e-01 1.8915994e-02 4.2701463e-06]\n",
            " [9.9425393e-01 5.7457453e-03 3.3659381e-07]]\n",
            "   품종_setosa  품종_versicolor  품종_virginica\n",
            "0          1              0             0\n",
            "1          1              0             0\n",
            "2          1              0             0\n",
            "3          1              0             0\n",
            "4          1              0             0\n"
          ],
          "name": "stdout"
        }
      ]
    },
    {
      "cell_type": "code",
      "metadata": {
        "colab": {
          "base_uri": "https://localhost:8080/",
          "height": 424
        },
        "id": "I_rvECV1RPs1",
        "outputId": "f510d393-9e6d-45a3-e0e9-fcd70b68b42f"
      },
      "source": [
        "###########################\r\n",
        "# 파일 읽어오기\r\n",
        "파일경로 = 'https://raw.githubusercontent.com/blackdew/tensorflow1/master/csv/iris2.csv'\r\n",
        "아이리스 = pd.read_csv(파일경로)\r\n",
        "아이리스.head()\r\n",
        " \r\n",
        "###########################\r\n",
        "# 칼럼의 데이터 타입 체크\r\n",
        "print(아이리스.dtypes)\r\n",
        " \r\n",
        "# 원핫인코딩 되지 않는 현상 확인\r\n",
        "인코딩 = pd.get_dummies(아이리스) #원핫인코딩은 데이터타입이 category이거나 object일때 가능 현재는 int형이므로 category형으로 바꿔준다.\r\n",
        "인코딩.head()\r\n",
        " \r\n",
        "###########################\r\n",
        "# 품종 타입을 범주형으로 바꾸어 준다. \r\n",
        "아이리스['품종'] = 아이리스['품종'].astype('category')\r\n",
        "print(아이리스.dtypes)\r\n",
        " \r\n",
        "# 카테고리 타입의 변수만 원핫인코딩\r\n",
        "인코딩 = pd.get_dummies(아이리스)\r\n",
        "인코딩.head()\r\n",
        " \r\n",
        "###########################\r\n",
        "# NA값을 체크해 봅시다. \r\n",
        "아이리스.isna().sum()\r\n",
        "아이리스.tail()\r\n",
        " \r\n",
        "###########################\r\n",
        "# NA값에 꽃잎폭 평균값을 넣어주는 방법\r\n",
        "mean = 아이리스['꽃잎폭'].mean()\r\n",
        "print(mean)\r\n",
        "아이리스['꽃잎폭'] = 아이리스['꽃잎폭'].fillna(mean)\r\n",
        "아이리스.tail()"
      ],
      "execution_count": null,
      "outputs": [
        {
          "output_type": "stream",
          "text": [
            "꽃잎길이     float64\n",
            "꽃잎폭      float64\n",
            "꽃받침길이    float64\n",
            "꽃받침폭     float64\n",
            "품종         int64\n",
            "dtype: object\n",
            "꽃잎길이      float64\n",
            "꽃잎폭       float64\n",
            "꽃받침길이     float64\n",
            "꽃받침폭      float64\n",
            "품종       category\n",
            "dtype: object\n",
            "3.0543624161073835\n"
          ],
          "name": "stdout"
        },
        {
          "output_type": "execute_result",
          "data": {
            "text/html": [
              "<div>\n",
              "<style scoped>\n",
              "    .dataframe tbody tr th:only-of-type {\n",
              "        vertical-align: middle;\n",
              "    }\n",
              "\n",
              "    .dataframe tbody tr th {\n",
              "        vertical-align: top;\n",
              "    }\n",
              "\n",
              "    .dataframe thead th {\n",
              "        text-align: right;\n",
              "    }\n",
              "</style>\n",
              "<table border=\"1\" class=\"dataframe\">\n",
              "  <thead>\n",
              "    <tr style=\"text-align: right;\">\n",
              "      <th></th>\n",
              "      <th>꽃잎길이</th>\n",
              "      <th>꽃잎폭</th>\n",
              "      <th>꽃받침길이</th>\n",
              "      <th>꽃받침폭</th>\n",
              "      <th>품종</th>\n",
              "    </tr>\n",
              "  </thead>\n",
              "  <tbody>\n",
              "    <tr>\n",
              "      <th>145</th>\n",
              "      <td>6.7</td>\n",
              "      <td>3.000000</td>\n",
              "      <td>5.2</td>\n",
              "      <td>2.3</td>\n",
              "      <td>2</td>\n",
              "    </tr>\n",
              "    <tr>\n",
              "      <th>146</th>\n",
              "      <td>6.3</td>\n",
              "      <td>2.500000</td>\n",
              "      <td>5.0</td>\n",
              "      <td>1.9</td>\n",
              "      <td>2</td>\n",
              "    </tr>\n",
              "    <tr>\n",
              "      <th>147</th>\n",
              "      <td>6.5</td>\n",
              "      <td>3.000000</td>\n",
              "      <td>5.2</td>\n",
              "      <td>2.0</td>\n",
              "      <td>2</td>\n",
              "    </tr>\n",
              "    <tr>\n",
              "      <th>148</th>\n",
              "      <td>6.2</td>\n",
              "      <td>3.400000</td>\n",
              "      <td>5.4</td>\n",
              "      <td>2.3</td>\n",
              "      <td>2</td>\n",
              "    </tr>\n",
              "    <tr>\n",
              "      <th>149</th>\n",
              "      <td>5.9</td>\n",
              "      <td>3.054362</td>\n",
              "      <td>5.1</td>\n",
              "      <td>1.8</td>\n",
              "      <td>2</td>\n",
              "    </tr>\n",
              "  </tbody>\n",
              "</table>\n",
              "</div>"
            ],
            "text/plain": [
              "     꽃잎길이       꽃잎폭  꽃받침길이  꽃받침폭 품종\n",
              "145   6.7  3.000000    5.2   2.3  2\n",
              "146   6.3  2.500000    5.0   1.9  2\n",
              "147   6.5  3.000000    5.2   2.0  2\n",
              "148   6.2  3.400000    5.4   2.3  2\n",
              "149   5.9  3.054362    5.1   1.8  2"
            ]
          },
          "metadata": {
            "tags": []
          },
          "execution_count": 109
        }
      ]
    },
    {
      "cell_type": "code",
      "metadata": {
        "id": "x40ie5amSbrB"
      },
      "source": [
        "###########################\r\n",
        "# 1.과거의 데이터를 준비합니다.\r\n",
        "파일경로 = 'https://raw.githubusercontent.com/blackdew/tensorflow1/master/csv/boston.csv'\r\n",
        "보스턴 = pd.read_csv(파일경로)\r\n",
        " \r\n",
        "# 종속변수, 독립변수\r\n",
        "독립 = 보스턴[['crim', 'zn', 'indus', 'chas', 'nox', \r\n",
        "            'rm', 'age', 'dis', 'rad', 'tax',\r\n",
        "            'ptratio', 'b', 'lstat']]\r\n",
        "종속 = 보스턴[['medv']]\r\n",
        "print(독립.shape, 종속.shape)\r\n",
        " \r\n",
        "###########################\r\n",
        "# 2. 모델의 구조를 만듭니다\r\n",
        "X = tf.keras.layers.Input(shape=[13])\r\n",
        "H = tf.keras.layers.Dense(8, activation='swish')(X)\r\n",
        "H = tf.keras.layers.Dense(8, activation='swish')(H)\r\n",
        "H = tf.keras.layers.Dense(8, activation='swish')(H)\r\n",
        "Y = tf.keras.layers.Dense(1)(H)\r\n",
        "model = tf.keras.models.Model(X, Y)\r\n",
        "model.compile(loss='mse')\r\n",
        " \r\n",
        "# 2. 모델의 구조를 BatchNormalization layer를 사용하여 만든다.\r\n",
        "X = tf.keras.layers.Input(shape=[13])\r\n",
        " \r\n",
        "H = tf.keras.layers.Dense(8)(X)\r\n",
        "H = tf.keras.layers.BatchNormalization()(H)\r\n",
        "H = tf.keras.layers.Activation('swish')(H)\r\n",
        " \r\n",
        "H = tf.keras.layers.Dense(8)(H)\r\n",
        "H = tf.keras.layers.BatchNormalization()(H)\r\n",
        "H = tf.keras.layers.Activation('swish')(H)\r\n",
        " \r\n",
        "H = tf.keras.layers.Dense(8)(H)\r\n",
        "H = tf.keras.layers.BatchNormalization()(H)\r\n",
        "H = tf.keras.layers.Activation('swish')(H)\r\n",
        " \r\n",
        "Y = tf.keras.layers.Dense(1)(H)\r\n",
        "model = tf.keras.models.Model(X, Y)\r\n",
        "model.compile(loss='mse')\r\n",
        " \r\n",
        "###########################\r\n",
        "# 3.데이터로 모델을 학습(FIT)합니다.\r\n",
        "model.fit(독립, 종속, epochs=1000, verbose=0)"
      ],
      "execution_count": null,
      "outputs": []
    },
    {
      "cell_type": "code",
      "metadata": {
        "id": "RznnpGuBShjp"
      },
      "source": [
        "###########################\r\n",
        "# 1.과거의 데이터를 준비합니다.\r\n",
        "파일경로 = 'https://raw.githubusercontent.com/blackdew/tensorflow1/master/csv/iris.csv'\r\n",
        "아이리스 = pd.read_csv(파일경로)\r\n",
        " \r\n",
        "# 원핫인코딩\r\n",
        "아이리스 = pd.get_dummies(아이리스)\r\n",
        " \r\n",
        "# 종속변수, 독립변수\r\n",
        "독립 = 아이리스[['꽃잎길이', '꽃잎폭', '꽃받침길이', '꽃받침폭']]\r\n",
        "종속 = 아이리스[['품종_setosa', '품종_versicolor', '품종_virginica']]\r\n",
        "print(독립.shape, 종속.shape)\r\n",
        " \r\n",
        "###########################\r\n",
        "# 2. 모델의 구조를 만듭니다\r\n",
        "X = tf.keras.layers.Input(shape=[4])\r\n",
        "H = tf.keras.layers.Dense(8, activation='swish')(X)\r\n",
        "H = tf.keras.layers.Dense(8, activation='swish')(H)\r\n",
        "H = tf.keras.layers.Dense(8, activation='swish')(H)\r\n",
        "Y = tf.keras.layers.Dense(3, activation='softmax')(H)\r\n",
        "model = tf.keras.models.Model(X, Y)\r\n",
        "model.compile(loss='categorical_crossentropy',\r\n",
        "              metrics='accuracy')\r\n",
        " \r\n",
        "###########################\r\n",
        "# 2. 모델의 구조를 BatchNormalization layer를 사용하여 만든다.\r\n",
        "X = tf.keras.layers.Input(shape=[4])\r\n",
        " \r\n",
        "H = tf.keras.layers.Dense(8)(X)\r\n",
        "H = tf.keras.layers.BatchNormalization()(H)\r\n",
        "H = tf.keras.layers.Activation('swish')(H)\r\n",
        " \r\n",
        "H = tf.keras.layers.Dense(8)(H)\r\n",
        "H = tf.keras.layers.BatchNormalization()(H)\r\n",
        "H = tf.keras.layers.Activation('swish')(H)\r\n",
        " \r\n",
        "H = tf.keras.layers.Dense(8)(H)\r\n",
        "H = tf.keras.layers.BatchNormalization()(H)\r\n",
        "H = tf.keras.layers.Activation('swish')(H)\r\n",
        " \r\n",
        "Y = tf.keras.layers.Dense(3, activation='softmax')(H)\r\n",
        "model = tf.keras.models.Model(X, Y)\r\n",
        "model.compile(loss='categorical_crossentropy',\r\n",
        "              metrics='accuracy')\r\n",
        "               \r\n",
        "###########################\r\n",
        "# 3.데이터로 모델을 학습(FIT)합니다.\r\n",
        "model.fit(독립, 종속, epochs=1000 verbose=0)"
      ],
      "execution_count": null,
      "outputs": []
    }
  ]
}